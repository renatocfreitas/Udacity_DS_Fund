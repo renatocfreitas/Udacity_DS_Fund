{
 "cells": [
  {
   "cell_type": "markdown",
   "metadata": {},
   "source": [
    "# Data Science I - Project"
   ]
  },
  {
   "cell_type": "markdown",
   "metadata": {},
   "source": [
    "This project is about to focus on levels of survival and mortality in relation to the age, sex and ticket class aspects. At each question I use the print to display a direct response on the question or a chart and the conclusion about the chart.\n",
    "<br> This are the question I will make:\n",
    "<li>Number of men and women on board.</li>\n",
    "<li>Proportion of surviving men and women.</li>\n",
    "<li>Surviving men by age.</li>\n",
    "<li>Non surviving men by age.</li>\n",
    "<li>Non surviving female by age.</li>\n",
    "<li>Surviving women by age.</li>\n",
    "<li>Surviving men by class.</li>\n",
    "<li>Surviving women by class.</li>\n",
    "<li>Non surviving men by class.</li>\n",
    "<li>Non surviving women by class.</li>"
   ]
  },
  {
   "cell_type": "code",
   "execution_count": 1,
   "metadata": {},
   "outputs": [],
   "source": [
    "import pandas as pd\n",
    "import matplotlib.pyplot as plt\n",
    "% matplotlib inline\n",
    "df=pd.read_csv('titanic-data-6.csv')"
   ]
  },
  {
   "cell_type": "markdown",
   "metadata": {},
   "source": [
    "### Data preparation phase"
   ]
  },
  {
   "cell_type": "markdown",
   "metadata": {},
   "source": [
    "Now that data is loaded, I'll make the following changes:\n",
    "\n",
    "<li>For data cleaning, df dataframe was filtered by sex field.</li>\n",
    "<li>Taking advantage of the first level of filtering by sex, a second filter was applied for survived field.</li>\n",
    "<li>Using the drop filter to extract a Series of age from surviving men. Then, discarding NaN values using dropna filter.</li>\n",
    "<li>After querying non surviving men, using the drop filter to extract a Series of age from non surviving men. Then, discarding NaN values using dropna filter.</li>\n",
    "<li>After querying non surviving women, using the drop filter to extract a Series of age from non surviving women. Then, discarding NaN values using dropna filter.</li>\n",
    "<li>Using the drop filter to extract a Series of age from surviving women. Then, discarding NaN values using dropna filter.</li>\n",
    "<li>Using the drop filter to extract a Series of pclass from surviving men.</li>\n",
    "<li>Using the drop filter to extract a Series of pclass from surviving women.</li>\n",
    "<li>Using the drop filter to extract a Series of pclass from non surviving men.</li>\n",
    "<li>Using the drop filter to extract a Series of pclass from non surviving women.</li>\n",
    "<br>Each step is made for each question about the data.\n"
   ]
  },
  {
   "cell_type": "code",
   "execution_count": 2,
   "metadata": {},
   "outputs": [],
   "source": [
    "######### Plotting functions ######################\n",
    "def plotting_pizza (freq_list, label_list, title):\n",
    "    plt.title(title)\n",
    "    plt.pie(freq_list, labels=label_list, autopct='%1.1f%%')\n",
    "    plt.show()\n",
    "###################################################"
   ]
  },
  {
   "cell_type": "markdown",
   "metadata": {},
   "source": [
    "### Q: Number of men and women on board."
   ]
  },
  {
   "cell_type": "markdown",
   "metadata": {},
   "source": [
    "For data cleaning, df dataframe was filtered by sex field."
   ]
  },
  {
   "cell_type": "code",
   "execution_count": 3,
   "metadata": {
    "scrolled": true
   },
   "outputs": [
    {
     "name": "stdout",
     "output_type": "stream",
     "text": [
      "Male   = 577\n",
      "Female = 314\n"
     ]
    },
    {
     "data": {
      "image/png": "[encoded data removed]",
      "text/plain": [
       "<Figure size 432x288 with 1 Axes>"
      ]
     },
     "metadata": {},
     "output_type": "display_data"
    }
   ],
   "source": [
    "######### Number of male and female ? ############\n",
    "##################################################\n",
    "# Filtering by sex\n",
    "dfmale  = df.query('Sex == \"male\"')\n",
    "dfemale = df.query('Sex == \"female\"')\n",
    "# Counting number of male and female\n",
    "nmale   =  dfmale['Sex'].value_counts().iat[0]\n",
    "nfemale = dfemale['Sex'].value_counts().iat[0]\n",
    "print('Male   = {}'.format(nmale))\n",
    "print('Female = {}'.format(nfemale))\n",
    "# Plotting the results\n",
    "freq_list = [nmale, nfemale]\n",
    "labels_list = ['male','female']\n",
    "title = 'Proportion of male and female'\n",
    "plotting_pizza(freq_list, labels_list, title)"
   ]
  },
  {
   "cell_type": "code",
   "execution_count": 4,
   "metadata": {},
   "outputs": [
    {
     "name": "stdout",
     "output_type": "stream",
     "text": [
      "<class 'pandas.core.frame.DataFrame'>\n",
      "Int64Index: 314 entries, 1 to 888\n",
      "Data columns (total 12 columns):\n",
      "PassengerId    314 non-null int64\n",
      "Survived       314 non-null int64\n",
      "Pclass         314 non-null int64\n",
      "Name           314 non-null object\n",
      "Sex            314 non-null object\n",
      "Age            261 non-null float64\n",
      "SibSp          314 non-null int64\n",
      "Parch          314 non-null int64\n",
      "Ticket         314 non-null object\n",
      "Fare           314 non-null float64\n",
      "Cabin          97 non-null object\n",
      "Embarked       312 non-null object\n",
      "dtypes: float64(2), int64(5), object(5)\n",
      "memory usage: 31.9+ KB\n"
     ]
    }
   ],
   "source": [
    "dfemale.info()"
   ]
  },
  {
   "cell_type": "markdown",
   "metadata": {},
   "source": [
    "Chart 1: In this chart we see the proportion of male and female on board."
   ]
  },
  {
   "cell_type": "markdown",
   "metadata": {},
   "source": [
    "### Q: Proportion of surviving men and women."
   ]
  },
  {
   "cell_type": "markdown",
   "metadata": {},
   "source": [
    "Taking advantage of the first level of filtering by sex, a second filter was applied for survived field."
   ]
  },
  {
   "cell_type": "code",
   "execution_count": 5,
   "metadata": {},
   "outputs": [
    {
     "name": "stdout",
     "output_type": "stream",
     "text": [
      "Survived male   = 109 from 577 (19.0% of surviving)\n",
      "Survived female = 233 from 314 (74.0% of surviving)\n"
     ]
    },
    {
     "data": {
      "image/png": "[encoded data removed]",
      "text/plain": [
       "<Figure size 432x288 with 1 Axes>"
      ]
     },
     "metadata": {},
     "output_type": "display_data"
    }
   ],
   "source": [
    "######### Number of surviving male and female #########\n",
    "#######################################################\n",
    "# 2nd level of filtering by surviving\n",
    "alive_male    =  dfmale.query('Survived == 1')\n",
    "alive_female  = dfemale.query('Survived == 1')\n",
    "# Counting number of surviving male and female\n",
    "nalive_male   =   alive_male['Survived'].value_counts().iat[0]\n",
    "nalive_female = alive_female['Survived'].value_counts().iat[0]\n",
    "print('Survived male   = {} from {} ({}% of surviving)'.format(nalive_male, nmale, round(100*nalive_male/nmale)))\n",
    "print('Survived female = {} from {} ({}% of surviving)'.format(nalive_female, nfemale, round(100*nalive_female/nfemale)))\n",
    "dead_male   = nmale   - nalive_male\n",
    "dead_female = nfemale - nalive_female\n",
    "# Plotting the results\n",
    "surv_list=[nalive_male, nalive_female, dead_male, dead_female]\n",
    "label_list=['Surviving male','Surviving female','Dead male','Dead female']\n",
    "title='Proportion of surviving male and female'\n",
    "plotting_pizza(surv_list, label_list, title)"
   ]
  },
  {
   "cell_type": "markdown",
   "metadata": {},
   "source": [
    "Chart 2: This chart show us two dead man for each dead woman. Despite the greater number of men on board, only 19% of men survived. Women had a higher survival rate of 74%."
   ]
  },
  {
   "cell_type": "markdown",
   "metadata": {},
   "source": [
    "### Q: Surviving men by age."
   ]
  },
  {
   "cell_type": "markdown",
   "metadata": {},
   "source": [
    "Using the drop filter to extract a Series of age from surviving men. Then, discarding NaN values using dropna filter."
   ]
  },
  {
   "cell_type": "code",
   "execution_count": 6,
   "metadata": {},
   "outputs": [
    {
     "name": "stdout",
     "output_type": "stream",
     "text": [
      "Mean   age of surviving men = 27.0\n",
      "Median age of surviving men = 28.0\n"
     ]
    },
    {
     "data": {
      "text/plain": [
       "Text(0,0.5,'Age')"
      ]
     },
     "execution_count": 6,
     "metadata": {},
     "output_type": "execute_result"
    },
    {
     "data": {
      "image/png": "[encoded data removed]",
      "text/plain": [
       "<Figure size 432x288 with 1 Axes>"
      ]
     },
     "metadata": {},
     "output_type": "display_data"
    }
   ],
   "source": [
    "######### Surviving male by age #########\n",
    "#########################################\n",
    "# Series only for age\n",
    "age_surv_male = alive_male.drop(['PassengerId','Survived','Pclass','Name','Sex','SibSp','Parch','Ticket','Fare','Cabin','Embarked'],axis=1)\n",
    "# Discarding NaN values\n",
    "age_surv_male.dropna(inplace=True)\n",
    "# Mean and median age of surviving male\n",
    "print('Mean   age of surviving men = {}'.format(round(age_surv_male.mean().iat[0])))\n",
    "print('Median age of surviving men = {}'.format(round(age_surv_male.median().iat[0])))\n",
    "# range of surviving male by age\n",
    "index_male = list(range(1,age_surv_male.size+1)) \n",
    "# ploting the results\n",
    "plt.bar(index_male, age_surv_male['Age'].sort_values())\n",
    "plt.title('Age of surviving men')\n",
    "plt.xlabel('Number of surviving')\n",
    "plt.ylabel('Age')"
   ]
  },
  {
   "cell_type": "markdown",
   "metadata": {},
   "source": [
    "Chart 3: Distribution of surviving men by age. We see a higher number of survival men between 15 and 50 years old. \n",
    "We also see the median age of 28 years old. We can infer a higher tax of survival around 28 years old for men."
   ]
  },
  {
   "cell_type": "markdown",
   "metadata": {},
   "source": [
    "### Q: Non surviving men by age."
   ]
  },
  {
   "cell_type": "markdown",
   "metadata": {},
   "source": [
    "After querying non surviving men, using the drop filter to extract a Series of age from non surviving men. Then, discarding NaN values using dropna filter."
   ]
  },
  {
   "cell_type": "code",
   "execution_count": 7,
   "metadata": {},
   "outputs": [
    {
     "name": "stdout",
     "output_type": "stream",
     "text": [
      "Median age of non surviving men = 29.0\n"
     ]
    },
    {
     "data": {
      "text/plain": [
       "Text(0,0.5,'Age')"
      ]
     },
     "execution_count": 7,
     "metadata": {},
     "output_type": "execute_result"
    },
    {
     "data": {
      "image/png": "[encoded data removed]",
      "text/plain": [
       "<Figure size 432x288 with 1 Axes>"
      ]
     },
     "metadata": {},
     "output_type": "display_data"
    }
   ],
   "source": [
    "######### Non surviving male by age #########\n",
    "#########################################\n",
    "dead_male     = dfmale.query('Survived == 0')\n",
    "age_dead_male = dead_male.drop(['PassengerId','Survived','Pclass','Name','Sex','SibSp','Parch','Ticket','Fare','Cabin','Embarked'],axis=1)\n",
    "age_dead_male.dropna(inplace=True)\n",
    "# median age of non surviving male\n",
    "print('Median age of non surviving men = {}'.format(round(age_dead_male.median().iat[0])))\n",
    "index_dead_male = list(range(1,age_dead_male.size+1)) \n",
    "plt.bar(index_dead_male, age_dead_male['Age'].sort_values())\n",
    "plt.title('Age of non surviving male')\n",
    "plt.xlabel('Number of non surviving')\n",
    "plt.ylabel('Age')"
   ]
  },
  {
   "cell_type": "markdown",
   "metadata": {},
   "source": [
    "Chart 4: According to chart 3, the median age of surviving and non surviving men are almost the same, 28 and 29 years old. But we can see on chart 4 a higher number of non survival men above 50 years old when compared to chart 3. Comparing charts 3 and 4, under 15 years old, the number of surviving and non surviving men shows similar results.\n",
    "    "
   ]
  },
  {
   "cell_type": "markdown",
   "metadata": {},
   "source": [
    "### Q: Non surviving female by age"
   ]
  },
  {
   "cell_type": "markdown",
   "metadata": {},
   "source": [
    "After querying non surviving women, using the drop filter to extract a Series of age from non surviving women. Then, discarding NaN values using dropna filter."
   ]
  },
  {
   "cell_type": "code",
   "execution_count": 8,
   "metadata": {},
   "outputs": [
    {
     "name": "stdout",
     "output_type": "stream",
     "text": [
      "Median age of non surviving women = 24.0\n"
     ]
    },
    {
     "data": {
      "text/plain": [
       "Text(0,0.5,'Age')"
      ]
     },
     "execution_count": 8,
     "metadata": {},
     "output_type": "execute_result"
    },
    {
     "data": {
      "image/png": "[encoded data removed]",
      "text/plain": [
       "<Figure size 432x288 with 1 Axes>"
      ]
     },
     "metadata": {},
     "output_type": "display_data"
    }
   ],
   "source": [
    "######### Non surviving female by age #########\n",
    "#########################################\n",
    "dead_female     = dfemale.query('Survived == 0')\n",
    "age_dead_female = dead_female.drop(['PassengerId','Survived','Pclass','Name','Sex','SibSp','Parch','Ticket','Fare','Cabin','Embarked'],axis=1)\n",
    "age_dead_female.dropna(inplace=True)\n",
    "# median age of non surviving male\n",
    "print('Median age of non surviving women = {}'.format(round(age_dead_female.median().iat[0])))\n",
    "# plotting\n",
    "index_dead_female = list(range(1,age_dead_female.size+1)) \n",
    "plt.bar(index_dead_female, age_dead_female['Age'].sort_values())\n",
    "plt.title('Age of non surviving female')\n",
    "plt.xlabel('Number of non surviving')\n",
    "plt.ylabel('Age')"
   ]
  },
  {
   "cell_type": "markdown",
   "metadata": {},
   "source": [
    "Chart 5: The median age of non surviving women is less than non surviving men, 24 years old."
   ]
  },
  {
   "cell_type": "markdown",
   "metadata": {},
   "source": [
    "### Q: Surviving women by age"
   ]
  },
  {
   "cell_type": "markdown",
   "metadata": {},
   "source": [
    "Using the drop filter to extract a Series of age from surviving women. Then, discarding NaN values using dropna filter."
   ]
  },
  {
   "cell_type": "code",
   "execution_count": 9,
   "metadata": {},
   "outputs": [
    {
     "name": "stdout",
     "output_type": "stream",
     "text": [
      "Median age of surviving women = 28.0\n"
     ]
    },
    {
     "data": {
      "text/plain": [
       "Text(0,0.5,'Age')"
      ]
     },
     "execution_count": 9,
     "metadata": {},
     "output_type": "execute_result"
    },
    {
     "data": {
      "image/png": "[encoded data removed]",
      "text/plain": [
       "<Figure size 432x288 with 1 Axes>"
      ]
     },
     "metadata": {},
     "output_type": "display_data"
    }
   ],
   "source": [
    "######### Surviving female by age #########\n",
    "###########################################\n",
    "# Series only for age\n",
    "age_surv_female = alive_female.drop(['PassengerId','Survived','Pclass','Name','Sex','SibSp','Parch','Ticket','Fare','Cabin','Embarked'],axis=1)\n",
    "# Discarding NaN values\n",
    "age_surv_female.dropna(inplace=True)\n",
    "# median age of surviving female\n",
    "print('Median age of surviving women = {}'.format(round(age_surv_female.median().iat[0])))\n",
    "# range of surviving female by age\n",
    "index_female = list(range(1,age_surv_female.size+1)) \n",
    "# plot\n",
    "plt.bar(index_female, age_surv_female['Age'].sort_values())\n",
    "plt.title('Age of surviving female')\n",
    "plt.xlabel('Number of surviving')\n",
    "plt.ylabel('Age')"
   ]
  },
  {
   "cell_type": "markdown",
   "metadata": {},
   "source": [
    "Chart 6: The median age of suviving women is the same of surviving men, 28 years old. We can infer the same tax of survival for women around 28 years old."
   ]
  },
  {
   "cell_type": "markdown",
   "metadata": {},
   "source": [
    "### Q: Surviving men by class."
   ]
  },
  {
   "cell_type": "markdown",
   "metadata": {},
   "source": [
    "Using the drop filter to extract a Series of pclass from surviving men. "
   ]
  },
  {
   "cell_type": "code",
   "execution_count": 10,
   "metadata": {
    "scrolled": true
   },
   "outputs": [
    {
     "data": {
      "text/plain": [
       "Text(0,0.5,'Pclass')"
      ]
     },
     "execution_count": 10,
     "metadata": {},
     "output_type": "execute_result"
    },
    {
     "data": {
      "image/png": "[encoded data removed]",
      "text/plain": [
       "<Figure size 432x288 with 1 Axes>"
      ]
     },
     "metadata": {},
     "output_type": "display_data"
    }
   ],
   "source": [
    "######### Surviving male by class #########\n",
    "###########################################\n",
    "# Series only for pclass\n",
    "pclass_surv_male = alive_male.drop(['PassengerId','Survived','Name','Sex','Age','SibSp','Parch','Ticket','Fare','Cabin','Embarked'],axis=1)\n",
    "# range of surviving male by class\n",
    "index_pclass_surv_male = list(range(1,pclass_surv_male.size+1))\n",
    "# plot\n",
    "plt.bar(index_pclass_surv_male, pclass_surv_male['Pclass'].sort_values())\n",
    "plt.title('Pclass of surviving male')\n",
    "plt.xlabel('Number of surviving')\n",
    "plt.ylabel('Pclass')"
   ]
  },
  {
   "cell_type": "markdown",
   "metadata": {},
   "source": [
    "Chart 7: For men, 1st and 3rd class in similar proportion of surviving. "
   ]
  },
  {
   "cell_type": "code",
   "execution_count": 11,
   "metadata": {},
   "outputs": [
    {
     "name": "stdout",
     "output_type": "stream",
     "text": [
      "<class 'pandas.core.frame.DataFrame'>\n",
      "Int64Index: 109 entries, 17 to 889\n",
      "Data columns (total 1 columns):\n",
      "Pclass    109 non-null int64\n",
      "dtypes: int64(1)\n",
      "memory usage: 1.7 KB\n"
     ]
    }
   ],
   "source": [
    "pclass_surv_male.info()"
   ]
  },
  {
   "cell_type": "markdown",
   "metadata": {},
   "source": [
    "### Q: Surviving women by class."
   ]
  },
  {
   "cell_type": "markdown",
   "metadata": {},
   "source": [
    "Using the drop filter to extract a Series of pclass from surviving women. "
   ]
  },
  {
   "cell_type": "code",
   "execution_count": 12,
   "metadata": {},
   "outputs": [
    {
     "data": {
      "text/plain": [
       "Text(0,0.5,'Pclass')"
      ]
     },
     "execution_count": 12,
     "metadata": {},
     "output_type": "execute_result"
    },
    {
     "data": {
      "image/png": "[encoded data removed]",
      "text/plain": [
       "<Figure size 432x288 with 1 Axes>"
      ]
     },
     "metadata": {},
     "output_type": "display_data"
    }
   ],
   "source": [
    "######### Surviving female by class #########\n",
    "#############################################\n",
    "# Series only for pclass\n",
    "pclass_surv_female = alive_female.drop(['PassengerId','Survived','Name','Sex','Age','SibSp','Parch','Ticket','Fare','Cabin','Embarked'],axis=1)\n",
    "# range of surviving female by class\n",
    "index_pclass_surv_female = list(range(1,pclass_surv_female.size+1))\n",
    "# plot\n",
    "plt.bar(index_pclass_surv_female, pclass_surv_female['Pclass'].sort_values())\n",
    "plt.title('Pclass of surviving female')\n",
    "plt.xlabel('Number of surviving')\n",
    "plt.ylabel('Pclass')\n"
   ]
  },
  {
   "cell_type": "markdown",
   "metadata": {},
   "source": [
    "Chart 8: For women, all classes in similar proportions of surviving."
   ]
  },
  {
   "cell_type": "code",
   "execution_count": 13,
   "metadata": {},
   "outputs": [
    {
     "name": "stdout",
     "output_type": "stream",
     "text": [
      "<class 'pandas.core.frame.DataFrame'>\n",
      "Int64Index: 233 entries, 1 to 887\n",
      "Data columns (total 1 columns):\n",
      "Pclass    233 non-null int64\n",
      "dtypes: int64(1)\n",
      "memory usage: 3.6 KB\n"
     ]
    }
   ],
   "source": [
    "pclass_surv_female.info()"
   ]
  },
  {
   "cell_type": "markdown",
   "metadata": {},
   "source": [
    "### Q: Non surviving men by class."
   ]
  },
  {
   "cell_type": "markdown",
   "metadata": {},
   "source": [
    "Using the drop filter to extract a Series of pclass from non surviving men. "
   ]
  },
  {
   "cell_type": "code",
   "execution_count": 26,
   "metadata": {},
   "outputs": [
    {
     "name": "stdout",
     "output_type": "stream",
     "text": [
      "3    300\n",
      "2     91\n",
      "1     77\n",
      "Name: Pclass, dtype: int64\n"
     ]
    },
    {
     "data": {
      "image/png": "[encoded data removed]",
      "text/plain": [
       "<Figure size 432x288 with 1 Axes>"
      ]
     },
     "metadata": {},
     "output_type": "display_data"
    }
   ],
   "source": [
    "######### Non surviving male by class #########\n",
    "###############################################\n",
    "# Series only for pclass\n",
    "nonalive_male    =  dfmale.query('Survived == 0')\n",
    "pclass_nonsurv_male = nonalive_male.drop(['PassengerId','Survived','Name','Sex','Age','SibSp','Parch','Ticket','Fare','Cabin','Embarked'],axis=1)\n",
    "#print(pclass_nonsurv_male)\n",
    " #pclass_nonsurv_male.head()\n",
    "# range of non surviving male by class\n",
    "index_pclass_nonsurv_male = list(range(1,pclass_nonsurv_male.size+1))\n",
    "# plot\n",
    "plt.bar(index_pclass_nonsurv_male, pclass_nonsurv_male['Pclass'].sort_values())\n",
    "plt.title('Pclass of non surviving male')\n",
    "plt.xlabel('Number of non surviving')\n",
    "plt.ylabel('Pclass')\n",
    "# counting number of non surviving men by pclass\n",
    "non_surv_men_class1 = pclass_nonsurv_male['Pclass'].value_counts()\n",
    "print(non_surv_men_class1)"
   ]
  },
  {
   "cell_type": "markdown",
   "metadata": {},
   "source": [
    "Chart 9: For men, 3rd class in greater proportion of fatality: 300 of 468 is 64,1% of non surving from 3rd class."
   ]
  },
  {
   "cell_type": "code",
   "execution_count": 15,
   "metadata": {},
   "outputs": [
    {
     "name": "stdout",
     "output_type": "stream",
     "text": [
      "<class 'pandas.core.frame.DataFrame'>\n",
      "Int64Index: 468 entries, 0 to 890\n",
      "Data columns (total 1 columns):\n",
      "Pclass    468 non-null int64\n",
      "dtypes: int64(1)\n",
      "memory usage: 7.3 KB\n"
     ]
    }
   ],
   "source": [
    "pclass_nonsurv_male.info()"
   ]
  },
  {
   "cell_type": "markdown",
   "metadata": {},
   "source": [
    "### Q: Non surviving women by class"
   ]
  },
  {
   "cell_type": "markdown",
   "metadata": {},
   "source": [
    "Using the drop filter to extract a Series of pclass from non surviving women. "
   ]
  },
  {
   "cell_type": "code",
   "execution_count": 27,
   "metadata": {},
   "outputs": [
    {
     "name": "stdout",
     "output_type": "stream",
     "text": [
      "3rd class in greater proportion of fatality\n",
      "3    72\n",
      "2     6\n",
      "1     3\n",
      "Name: Pclass, dtype: int64\n"
     ]
    },
    {
     "data": {
      "image/png": "[encoded data removed]",
      "text/plain": [
       "<Figure size 432x288 with 1 Axes>"
      ]
     },
     "metadata": {},
     "output_type": "display_data"
    }
   ],
   "source": [
    "######### Non surviving female by class #########\n",
    "#################################################\n",
    "# Series only for pclass\n",
    "nonalive_female    =  dfemale.query('Survived == 0')\n",
    "pclass_nonsurv_female = nonalive_female.drop(['PassengerId','Survived','Name','Sex','Age','SibSp','Parch','Ticket','Fare','Cabin','Embarked'],axis=1)\n",
    "# range of non surviving male by class\n",
    "index_pclass_nonsurv_female = list(range(1,pclass_nonsurv_female.size+1))\n",
    "# plot\n",
    "plt.bar(index_pclass_nonsurv_female, pclass_nonsurv_female['Pclass'].sort_values())\n",
    "plt.title('Pclass of non surviving female')\n",
    "plt.xlabel('Number of non surviving')\n",
    "plt.ylabel('Pclass')\n",
    "print('3rd class in greater proportion of fatality')\n",
    "# counting number of non surviving men by pclass\n",
    "non_surv_women_class1 = pclass_nonsurv_female['Pclass'].value_counts()\n",
    "print(non_surv_women_class1)"
   ]
  },
  {
   "cell_type": "markdown",
   "metadata": {},
   "source": [
    "Chart 10: As well as men in chart 9, women from 3rd class in greater proportion of fatality too: 72 from 81 is 88,9%  of non surving women from de 3rd class."
   ]
  },
  {
   "cell_type": "code",
   "execution_count": 17,
   "metadata": {},
   "outputs": [
    {
     "name": "stdout",
     "output_type": "stream",
     "text": [
      "<class 'pandas.core.frame.DataFrame'>\n",
      "Int64Index: 81 entries, 14 to 888\n",
      "Data columns (total 1 columns):\n",
      "Pclass    81 non-null int64\n",
      "dtypes: int64(1)\n",
      "memory usage: 1.3 KB\n"
     ]
    }
   ],
   "source": [
    "pclass_nonsurv_female.info()"
   ]
  },
  {
   "cell_type": "markdown",
   "metadata": {},
   "source": [
    "### Conclusão"
   ]
  },
  {
   "cell_type": "markdown",
   "metadata": {},
   "source": [
    "Analisando os dados do acidente do Titanic, fica evidente que os passageiros das classes superiores foram privilegiados durante o embarque nos botes salva-vidas.\n",
    "<br>Do total de passageiros, 64,8 % foram homens.\n",
    "<br>Apenas 19% dos homens sobreviveram, já as mulheres tiveram uma taxa de sobrevivência de 74%.\n",
    "<br>A idade média dos passageiros: dos homens e das mulheres sobreviventes (28 anos); dos homens não sobrevientes é similar (29 anos); das mulheres não sobreviventes (24 anos).\n",
    "<br>Homens e mulheres da 3a classe tiveram uma maior proporção de fatalidades. 64% dos homens mortos estavam na 3a classe. E 89% das mulheres mortas estavam na 3a classe.\n"
   ]
  },
  {
   "cell_type": "markdown",
   "metadata": {},
   "source": [
    "### Limitações"
   ]
  },
  {
   "cell_type": "markdown",
   "metadata": {},
   "source": [
    "Algumas propriedades não possuíam valores para alguns passageiros. Foi o caso dos campos: Age, Cabin e Embarked.\n",
    "Neste trabalho o campo Age foi utilizado na geração das estatísticas de sobrevivência por idade.\n",
    "<br>Medida tomada:\n",
    "    <li>Os valores faltantes foram desconsiderados (dropna).</li>"
   ]
  },
  {
   "cell_type": "code",
   "execution_count": null,
   "metadata": {},
   "outputs": [],
   "source": []
  }
 ],
 "metadata": {
  "kernelspec": {
   "display_name": "Python 3",
   "language": "python",
   "name": "python3"
  },
  "language_info": {
   "codemirror_mode": {
    "name": "ipython",
    "version": 3
   },
   "file_extension": ".py",
   "mimetype": "text/x-python",
   "name": "python",
   "nbconvert_exporter": "python",
   "pygments_lexer": "ipython3",
   "version": "3.6.5"
  }
 },
 "nbformat": 4,
 "nbformat_minor": 2
}
